{
 "cells": [
  {
   "cell_type": "code",
   "execution_count": 35,
   "metadata": {},
   "outputs": [],
   "source": [
    "import numpy as np\n",
    "import pandas as pd\n"
   ]
  },
  {
   "cell_type": "code",
   "execution_count": 36,
   "metadata": {},
   "outputs": [],
   "source": [
    "anime = pd.read_csv(\"anime.csv\")\n",
    "ratings = pd.read_csv(\"rating.csv\")\n"
   ]
  },
  {
   "cell_type": "code",
   "execution_count": 37,
   "metadata": {},
   "outputs": [
    {
     "data": {
      "text/html": [
       "<div>\n",
       "<style scoped>\n",
       "    .dataframe tbody tr th:only-of-type {\n",
       "        vertical-align: middle;\n",
       "    }\n",
       "\n",
       "    .dataframe tbody tr th {\n",
       "        vertical-align: top;\n",
       "    }\n",
       "\n",
       "    .dataframe thead th {\n",
       "        text-align: right;\n",
       "    }\n",
       "</style>\n",
       "<table border=\"1\" class=\"dataframe\">\n",
       "  <thead>\n",
       "    <tr style=\"text-align: right;\">\n",
       "      <th></th>\n",
       "      <th>Rank</th>\n",
       "      <th>Name</th>\n",
       "      <th>Type</th>\n",
       "      <th>Studio</th>\n",
       "      <th>Tags</th>\n",
       "      <th>Rating</th>\n",
       "      <th>Description</th>\n",
       "    </tr>\n",
       "  </thead>\n",
       "  <tbody>\n",
       "    <tr>\n",
       "      <th>18490</th>\n",
       "      <td>18491</td>\n",
       "      <td>Qin Shi Mingyue: Canghai Hengliu Xiaomeng Spec...</td>\n",
       "      <td>Web</td>\n",
       "      <td>Sparkly Key Animation Studio</td>\n",
       "      <td>Action, Ancient China, Chinese Animation, Hist...</td>\n",
       "      <td>NaN</td>\n",
       "      <td>Special episodes of Qin Shi Mingyue: Canghai H...</td>\n",
       "    </tr>\n",
       "    <tr>\n",
       "      <th>18491</th>\n",
       "      <td>18492</td>\n",
       "      <td>Yi Tang Juchang: Sanguo Yanyi</td>\n",
       "      <td>TV</td>\n",
       "      <td>NaN</td>\n",
       "      <td>Chinese Animation</td>\n",
       "      <td>NaN</td>\n",
       "      <td>No synopsis yet - check back soon!</td>\n",
       "    </tr>\n",
       "    <tr>\n",
       "      <th>18492</th>\n",
       "      <td>18493</td>\n",
       "      <td>Fenghuang Ji Xiang Yu Qingming Shanghe Tu</td>\n",
       "      <td>TV</td>\n",
       "      <td>NaN</td>\n",
       "      <td>Chinese Animation, Family Friendly, Short Epis...</td>\n",
       "      <td>NaN</td>\n",
       "      <td>No synopsis yet - check back soon!</td>\n",
       "    </tr>\n",
       "    <tr>\n",
       "      <th>18493</th>\n",
       "      <td>18494</td>\n",
       "      <td>Chengshi Jiyi Wo Men de Jieri</td>\n",
       "      <td>TV</td>\n",
       "      <td>NaN</td>\n",
       "      <td>Chinese Animation, Family Friendly, Short Epis...</td>\n",
       "      <td>NaN</td>\n",
       "      <td>No synopsis yet - check back soon!</td>\n",
       "    </tr>\n",
       "    <tr>\n",
       "      <th>18494</th>\n",
       "      <td>18495</td>\n",
       "      <td>Heisei Inu Monogatari Bow: Genshi Inu Monogata...</td>\n",
       "      <td>Movie</td>\n",
       "      <td>Nippon Animation</td>\n",
       "      <td>Comedy, Slice of Life, Dogs</td>\n",
       "      <td>NaN</td>\n",
       "      <td>No synopsis yet - check back soon!</td>\n",
       "    </tr>\n",
       "  </tbody>\n",
       "</table>\n",
       "</div>"
      ],
      "text/plain": [
       "        Rank                                               Name   Type  \\\n",
       "18490  18491  Qin Shi Mingyue: Canghai Hengliu Xiaomeng Spec...  Web     \n",
       "18491  18492                      Yi Tang Juchang: Sanguo Yanyi  TV      \n",
       "18492  18493          Fenghuang Ji Xiang Yu Qingming Shanghe Tu  TV      \n",
       "18493  18494                      Chengshi Jiyi Wo Men de Jieri  TV      \n",
       "18494  18495  Heisei Inu Monogatari Bow: Genshi Inu Monogata...  Movie   \n",
       "\n",
       "                             Studio  \\\n",
       "18490  Sparkly Key Animation Studio   \n",
       "18491                           NaN   \n",
       "18492                           NaN   \n",
       "18493                           NaN   \n",
       "18494              Nippon Animation   \n",
       "\n",
       "                                                    Tags  Rating  \\\n",
       "18490  Action, Ancient China, Chinese Animation, Hist...     NaN   \n",
       "18491                                  Chinese Animation     NaN   \n",
       "18492  Chinese Animation, Family Friendly, Short Epis...     NaN   \n",
       "18493  Chinese Animation, Family Friendly, Short Epis...     NaN   \n",
       "18494                        Comedy, Slice of Life, Dogs     NaN   \n",
       "\n",
       "                                             Description  \n",
       "18490  Special episodes of Qin Shi Mingyue: Canghai H...  \n",
       "18491                 No synopsis yet - check back soon!  \n",
       "18492                 No synopsis yet - check back soon!  \n",
       "18493                 No synopsis yet - check back soon!  \n",
       "18494                 No synopsis yet - check back soon!  "
      ]
     },
     "execution_count": 37,
     "metadata": {},
     "output_type": "execute_result"
    }
   ],
   "source": [
    "anime.tail()"
   ]
  },
  {
   "cell_type": "code",
   "execution_count": 38,
   "metadata": {},
   "outputs": [],
   "source": [
    "anime = anime[['Rank','Name', 'Studio', 'Tags', 'Description']]"
   ]
  },
  {
   "cell_type": "code",
   "execution_count": 39,
   "metadata": {},
   "outputs": [
    {
     "data": {
      "text/plain": [
       "Rank              0\n",
       "Name              0\n",
       "Studio         6477\n",
       "Tags            400\n",
       "Description       4\n",
       "dtype: int64"
      ]
     },
     "execution_count": 39,
     "metadata": {},
     "output_type": "execute_result"
    }
   ],
   "source": [
    "anime.isnull().sum()"
   ]
  },
  {
   "cell_type": "code",
   "execution_count": 40,
   "metadata": {},
   "outputs": [
    {
     "name": "stdout",
     "output_type": "stream",
     "text": [
      "<class 'pandas.core.frame.DataFrame'>\n",
      "RangeIndex: 18495 entries, 0 to 18494\n",
      "Data columns (total 5 columns):\n",
      " #   Column       Non-Null Count  Dtype \n",
      "---  ------       --------------  ----- \n",
      " 0   Rank         18495 non-null  int64 \n",
      " 1   Name         18495 non-null  object\n",
      " 2   Studio       12018 non-null  object\n",
      " 3   Tags         18095 non-null  object\n",
      " 4   Description  18491 non-null  object\n",
      "dtypes: int64(1), object(4)\n",
      "memory usage: 722.6+ KB\n"
     ]
    }
   ],
   "source": [
    "anime.info()"
   ]
  },
  {
   "cell_type": "code",
   "execution_count": 41,
   "metadata": {},
   "outputs": [],
   "source": [
    "anime = anime.dropna()"
   ]
  },
  {
   "cell_type": "code",
   "execution_count": 42,
   "metadata": {},
   "outputs": [
    {
     "data": {
      "text/plain": [
       "'Shounen, Sports, Animeism, School Club, School Life, Tournaments, Volleyball, Based on a Manga'"
      ]
     },
     "execution_count": 42,
     "metadata": {},
     "output_type": "execute_result"
    }
   ],
   "source": [
    "anime.iloc[9].Tags"
   ]
  },
  {
   "cell_type": "code",
   "execution_count": 43,
   "metadata": {},
   "outputs": [
    {
     "data": {
      "text/plain": [
       "\"'Tanjiro and his friends accompany the Hashira Tengen Uzui to an entertainment district where Tengen’s female ninja agents were gathering information on a demon before they suddenly disappeared. In order to investigate, Tanjiro and the others disguise themselves as women to sneak in!'\""
      ]
     },
     "execution_count": 43,
     "metadata": {},
     "output_type": "execute_result"
    }
   ],
   "source": [
    "anime.iloc[0].Description"
   ]
  },
  {
   "cell_type": "code",
   "execution_count": 44,
   "metadata": {},
   "outputs": [
    {
     "data": {
      "text/html": [
       "<div>\n",
       "<style scoped>\n",
       "    .dataframe tbody tr th:only-of-type {\n",
       "        vertical-align: middle;\n",
       "    }\n",
       "\n",
       "    .dataframe tbody tr th {\n",
       "        vertical-align: top;\n",
       "    }\n",
       "\n",
       "    .dataframe thead th {\n",
       "        text-align: right;\n",
       "    }\n",
       "</style>\n",
       "<table border=\"1\" class=\"dataframe\">\n",
       "  <thead>\n",
       "    <tr style=\"text-align: right;\">\n",
       "      <th></th>\n",
       "      <th>Rank</th>\n",
       "      <th>Name</th>\n",
       "      <th>Studio</th>\n",
       "      <th>Tags</th>\n",
       "      <th>Description</th>\n",
       "    </tr>\n",
       "  </thead>\n",
       "  <tbody>\n",
       "    <tr>\n",
       "      <th>2796</th>\n",
       "      <td>2797</td>\n",
       "      <td>Squid Girls Specials</td>\n",
       "      <td>diomedea</td>\n",
       "      <td>Comedy, Shounen, Ocean, Based on a Manga</td>\n",
       "      <td>'No more than a few inches tall, Mini Squid Gi...</td>\n",
       "    </tr>\n",
       "    <tr>\n",
       "      <th>3023</th>\n",
       "      <td>3024</td>\n",
       "      <td>Hikaru no Go: Special Edition - Match of Justi...</td>\n",
       "      <td>Pierrot</td>\n",
       "      <td>Shounen, Board Games, Ghosts, Supernatural, Ba...</td>\n",
       "      <td>'After unsuccessfully trying to show off his b...</td>\n",
       "    </tr>\n",
       "    <tr>\n",
       "      <th>1037</th>\n",
       "      <td>1038</td>\n",
       "      <td>Lie Huo Jiao Chou</td>\n",
       "      <td>Shenying Animation</td>\n",
       "      <td>Action, BL, Drama, Shounen-ai, Chinese Animati...</td>\n",
       "      <td>'No synopsis yet - check back soon!'</td>\n",
       "    </tr>\n",
       "    <tr>\n",
       "      <th>4767</th>\n",
       "      <td>4768</td>\n",
       "      <td>Chou Denji Robo Combattler V</td>\n",
       "      <td>Sunrise</td>\n",
       "      <td>Action, Mecha, Sci Fi, Combining Mecha, Monste...</td>\n",
       "      <td>\"Deep beneath the surface of the Earth, an evi...</td>\n",
       "    </tr>\n",
       "    <tr>\n",
       "      <th>6078</th>\n",
       "      <td>6079</td>\n",
       "      <td>Shi Huang Zhi Shen</td>\n",
       "      <td>Haoliners Animation League</td>\n",
       "      <td>Action, Chinese Animation, Based on a Manga</td>\n",
       "      <td>'No synopsis yet - check back soon!'</td>\n",
       "    </tr>\n",
       "  </tbody>\n",
       "</table>\n",
       "</div>"
      ],
      "text/plain": [
       "      Rank                                               Name  \\\n",
       "2796  2797                               Squid Girls Specials   \n",
       "3023  3024  Hikaru no Go: Special Edition - Match of Justi...   \n",
       "1037  1038                                  Lie Huo Jiao Chou   \n",
       "4767  4768                       Chou Denji Robo Combattler V   \n",
       "6078  6079                                 Shi Huang Zhi Shen   \n",
       "\n",
       "                          Studio  \\\n",
       "2796                    diomedea   \n",
       "3023                     Pierrot   \n",
       "1037          Shenying Animation   \n",
       "4767                     Sunrise   \n",
       "6078  Haoliners Animation League   \n",
       "\n",
       "                                                   Tags  \\\n",
       "2796           Comedy, Shounen, Ocean, Based on a Manga   \n",
       "3023  Shounen, Board Games, Ghosts, Supernatural, Ba...   \n",
       "1037  Action, BL, Drama, Shounen-ai, Chinese Animati...   \n",
       "4767  Action, Mecha, Sci Fi, Combining Mecha, Monste...   \n",
       "6078        Action, Chinese Animation, Based on a Manga   \n",
       "\n",
       "                                            Description  \n",
       "2796  'No more than a few inches tall, Mini Squid Gi...  \n",
       "3023  'After unsuccessfully trying to show off his b...  \n",
       "1037               'No synopsis yet - check back soon!'  \n",
       "4767  \"Deep beneath the surface of the Earth, an evi...  \n",
       "6078               'No synopsis yet - check back soon!'  "
      ]
     },
     "execution_count": 44,
     "metadata": {},
     "output_type": "execute_result"
    }
   ],
   "source": [
    "anime.sample(5)"
   ]
  },
  {
   "cell_type": "code",
   "execution_count": 45,
   "metadata": {},
   "outputs": [
    {
     "data": {
      "text/plain": [
       "0        'Tanjiro and his friends accompany the Hashira...\n",
       "1                        'The final arc of Fruits Basket.'\n",
       "2                     'The third season of Mo Dao Zu Shi.'\n",
       "3        \"The foundation of alchemy is based on the law...\n",
       "4        'The battle to retake Wall Maria begins now! W...\n",
       "                               ...                        \n",
       "18461       The second part of Hua Jianghu Zhi Gui Yexing.\n",
       "18482    The official music video for Free from the alb...\n",
       "18487    On a cold planet of ice and snow, mysterious c...\n",
       "18488    The story follows the daily life of Fushihara,...\n",
       "18490    Special episodes of Qin Shi Mingyue: Canghai H...\n",
       "Name: Description, Length: 8262, dtype: object"
      ]
     },
     "execution_count": 45,
     "metadata": {},
     "output_type": "execute_result"
    }
   ],
   "source": [
    "anime['Description'].drop_duplicates()"
   ]
  },
  {
   "cell_type": "code",
   "execution_count": 46,
   "metadata": {},
   "outputs": [
    {
     "data": {
      "text/html": [
       "<div>\n",
       "<style scoped>\n",
       "    .dataframe tbody tr th:only-of-type {\n",
       "        vertical-align: middle;\n",
       "    }\n",
       "\n",
       "    .dataframe tbody tr th {\n",
       "        vertical-align: top;\n",
       "    }\n",
       "\n",
       "    .dataframe thead th {\n",
       "        text-align: right;\n",
       "    }\n",
       "</style>\n",
       "<table border=\"1\" class=\"dataframe\">\n",
       "  <thead>\n",
       "    <tr style=\"text-align: right;\">\n",
       "      <th></th>\n",
       "      <th>Rank</th>\n",
       "      <th>Name</th>\n",
       "      <th>Studio</th>\n",
       "      <th>Tags</th>\n",
       "      <th>Description</th>\n",
       "    </tr>\n",
       "  </thead>\n",
       "  <tbody>\n",
       "    <tr>\n",
       "      <th>4162</th>\n",
       "      <td>4163</td>\n",
       "      <td>Kawauso Labo</td>\n",
       "      <td>Kachidoki Studio</td>\n",
       "      <td>Comedy, Animal Protagonists, Anthropomorphic, ...</td>\n",
       "      <td>'No synopsis yet - check back soon!'</td>\n",
       "    </tr>\n",
       "    <tr>\n",
       "      <th>4189</th>\n",
       "      <td>4190</td>\n",
       "      <td>Kodocha OVA</td>\n",
       "      <td>J.C.Staff</td>\n",
       "      <td>Comedy, Shoujo, Slice of Life, Acting, Idols, ...</td>\n",
       "      <td>'Sana Kurata is a famous child-actress and the...</td>\n",
       "    </tr>\n",
       "    <tr>\n",
       "      <th>5848</th>\n",
       "      <td>5849</td>\n",
       "      <td>Absolute Duo</td>\n",
       "      <td>8-Bit</td>\n",
       "      <td>Action, Ecchi, Fantasy, Harem, Romance, Magic ...</td>\n",
       "      <td>'After a traumatic accident takes his loved on...</td>\n",
       "    </tr>\n",
       "    <tr>\n",
       "      <th>5966</th>\n",
       "      <td>5967</td>\n",
       "      <td>The World God Only Knows: Magical Star Kanon 100%</td>\n",
       "      <td>Manglobe</td>\n",
       "      <td>Comedy, Fantasy, Shounen, Demons, Idols</td>\n",
       "      <td>\"Elsie, a huge fan of the popular idol Kanon, ...</td>\n",
       "    </tr>\n",
       "    <tr>\n",
       "      <th>3272</th>\n",
       "      <td>3273</td>\n",
       "      <td>Overlord III: Play Play Pleiades</td>\n",
       "      <td>Studio Puyukai</td>\n",
       "      <td>Comedy, Fantasy, Chibi, Overpowered Main Chara...</td>\n",
       "      <td>'No synopsis yet - check back soon!'</td>\n",
       "    </tr>\n",
       "    <tr>\n",
       "      <th>4677</th>\n",
       "      <td>4678</td>\n",
       "      <td>My Neighbors The Yamadas</td>\n",
       "      <td>Studio Ghibli</td>\n",
       "      <td>Comedy, Slice of Life, Family Friendly, Family...</td>\n",
       "      <td>'The Yamadas\\xa0are an ordinary suburban famil...</td>\n",
       "    </tr>\n",
       "    <tr>\n",
       "      <th>14881</th>\n",
       "      <td>14882</td>\n",
       "      <td>Dai Shogun: Great Revolution</td>\n",
       "      <td>A.C.G.T</td>\n",
       "      <td>Action, Ecchi, Mecha, Original Work, Violence</td>\n",
       "      <td>In Japan where the Meiji Restoration never hap...</td>\n",
       "    </tr>\n",
       "    <tr>\n",
       "      <th>5902</th>\n",
       "      <td>5903</td>\n",
       "      <td>Sore Ike! Anpanman: Tobe! Tobe! Chibigon</td>\n",
       "      <td>TMS Entertainment</td>\n",
       "      <td>Comedy, Fantasy, Anthropomorphic, Family Frien...</td>\n",
       "      <td>'No synopsis yet - check back soon!'</td>\n",
       "    </tr>\n",
       "    <tr>\n",
       "      <th>4128</th>\n",
       "      <td>4129</td>\n",
       "      <td>Bakugan: Geogan Rising</td>\n",
       "      <td>TMS Entertainment</td>\n",
       "      <td>Family Friendly, Proxy Battles</td>\n",
       "      <td>'No synopsis yet - check back soon!'</td>\n",
       "    </tr>\n",
       "    <tr>\n",
       "      <th>9968</th>\n",
       "      <td>9969</td>\n",
       "      <td>Project A-ko: Uncivil Wars</td>\n",
       "      <td>Studio Fantasia</td>\n",
       "      <td>Action, Comedy, Sci Fi, Superpowers, Original ...</td>\n",
       "      <td>'In this alternate story, the Project A-ko cha...</td>\n",
       "    </tr>\n",
       "  </tbody>\n",
       "</table>\n",
       "</div>"
      ],
      "text/plain": [
       "        Rank                                               Name  \\\n",
       "4162    4163                                       Kawauso Labo   \n",
       "4189    4190                                        Kodocha OVA   \n",
       "5848    5849                                       Absolute Duo   \n",
       "5966    5967  The World God Only Knows: Magical Star Kanon 100%   \n",
       "3272    3273                   Overlord III: Play Play Pleiades   \n",
       "4677    4678                           My Neighbors The Yamadas   \n",
       "14881  14882                       Dai Shogun: Great Revolution   \n",
       "5902    5903           Sore Ike! Anpanman: Tobe! Tobe! Chibigon   \n",
       "4128    4129                             Bakugan: Geogan Rising   \n",
       "9968    9969                         Project A-ko: Uncivil Wars   \n",
       "\n",
       "                  Studio                                               Tags  \\\n",
       "4162    Kachidoki Studio  Comedy, Animal Protagonists, Anthropomorphic, ...   \n",
       "4189           J.C.Staff  Comedy, Shoujo, Slice of Life, Acting, Idols, ...   \n",
       "5848               8-Bit  Action, Ecchi, Fantasy, Harem, Romance, Magic ...   \n",
       "5966            Manglobe            Comedy, Fantasy, Shounen, Demons, Idols   \n",
       "3272      Studio Puyukai  Comedy, Fantasy, Chibi, Overpowered Main Chara...   \n",
       "4677       Studio Ghibli  Comedy, Slice of Life, Family Friendly, Family...   \n",
       "14881            A.C.G.T      Action, Ecchi, Mecha, Original Work, Violence   \n",
       "5902   TMS Entertainment  Comedy, Fantasy, Anthropomorphic, Family Frien...   \n",
       "4128   TMS Entertainment                     Family Friendly, Proxy Battles   \n",
       "9968     Studio Fantasia  Action, Comedy, Sci Fi, Superpowers, Original ...   \n",
       "\n",
       "                                             Description  \n",
       "4162                'No synopsis yet - check back soon!'  \n",
       "4189   'Sana Kurata is a famous child-actress and the...  \n",
       "5848   'After a traumatic accident takes his loved on...  \n",
       "5966   \"Elsie, a huge fan of the popular idol Kanon, ...  \n",
       "3272                'No synopsis yet - check back soon!'  \n",
       "4677   'The Yamadas\\xa0are an ordinary suburban famil...  \n",
       "14881  In Japan where the Meiji Restoration never hap...  \n",
       "5902                'No synopsis yet - check back soon!'  \n",
       "4128                'No synopsis yet - check back soon!'  \n",
       "9968   'In this alternate story, the Project A-ko cha...  "
      ]
     },
     "execution_count": 46,
     "metadata": {},
     "output_type": "execute_result"
    }
   ],
   "source": [
    "anime.sample(10)"
   ]
  },
  {
   "cell_type": "code",
   "execution_count": 47,
   "metadata": {},
   "outputs": [
    {
     "data": {
      "text/plain": [
       "0        False\n",
       "1        False\n",
       "2        False\n",
       "3        False\n",
       "4        False\n",
       "         ...  \n",
       "18482    False\n",
       "18487    False\n",
       "18488    False\n",
       "18490    False\n",
       "18494     True\n",
       "Name: Description, Length: 11929, dtype: bool"
      ]
     },
     "execution_count": 47,
     "metadata": {},
     "output_type": "execute_result"
    }
   ],
   "source": [
    "anime['Description'].duplicated()"
   ]
  },
  {
   "cell_type": "code",
   "execution_count": 48,
   "metadata": {},
   "outputs": [],
   "source": [
    "anime = anime[anime['Description'] != \"'No synopsis yet - check back soon!'\"]\n"
   ]
  },
  {
   "cell_type": "code",
   "execution_count": 49,
   "metadata": {},
   "outputs": [
    {
     "data": {
      "text/html": [
       "<div>\n",
       "<style scoped>\n",
       "    .dataframe tbody tr th:only-of-type {\n",
       "        vertical-align: middle;\n",
       "    }\n",
       "\n",
       "    .dataframe tbody tr th {\n",
       "        vertical-align: top;\n",
       "    }\n",
       "\n",
       "    .dataframe thead th {\n",
       "        text-align: right;\n",
       "    }\n",
       "</style>\n",
       "<table border=\"1\" class=\"dataframe\">\n",
       "  <thead>\n",
       "    <tr style=\"text-align: right;\">\n",
       "      <th></th>\n",
       "      <th>Rank</th>\n",
       "      <th>Name</th>\n",
       "      <th>Studio</th>\n",
       "      <th>Tags</th>\n",
       "      <th>Description</th>\n",
       "    </tr>\n",
       "  </thead>\n",
       "  <tbody>\n",
       "    <tr>\n",
       "      <th>18435</th>\n",
       "      <td>18436</td>\n",
       "      <td>Xue Shizi</td>\n",
       "      <td>Shanghai Animation Film Studio</td>\n",
       "      <td>Chinese Animation, Shorts</td>\n",
       "      <td>No synopsis yet - check back soon!</td>\n",
       "    </tr>\n",
       "    <tr>\n",
       "      <th>18440</th>\n",
       "      <td>18441</td>\n",
       "      <td>Fang Xue Yi Hou</td>\n",
       "      <td>Shanghai Animation Film Studio</td>\n",
       "      <td>Chinese Animation, Shorts</td>\n",
       "      <td>No synopsis yet - check back soon!</td>\n",
       "    </tr>\n",
       "    <tr>\n",
       "      <th>18441</th>\n",
       "      <td>18442</td>\n",
       "      <td>San Mao Liulang Ji</td>\n",
       "      <td>Shanghai Animation Film Studio</td>\n",
       "      <td>Chinese Animation</td>\n",
       "      <td>No synopsis yet - check back soon!</td>\n",
       "    </tr>\n",
       "    <tr>\n",
       "      <th>18443</th>\n",
       "      <td>18444</td>\n",
       "      <td>The Imaginary</td>\n",
       "      <td>Studio Ponoc</td>\n",
       "      <td>Based on a Novel</td>\n",
       "      <td>No synopsis yet - check back soon!</td>\n",
       "    </tr>\n",
       "    <tr>\n",
       "      <th>18445</th>\n",
       "      <td>18446</td>\n",
       "      <td>Onagawa Chuu Baske Bu: 5-nin no Natsu</td>\n",
       "      <td>TYO Animations</td>\n",
       "      <td>Drama, Sports, Basketball, School Club</td>\n",
       "      <td>No synopsis yet - check back soon!</td>\n",
       "    </tr>\n",
       "    <tr>\n",
       "      <th>18446</th>\n",
       "      <td>18447</td>\n",
       "      <td>Ometeotl Hero</td>\n",
       "      <td>Speed</td>\n",
       "      <td>Sci Fi, Anime Tamago, Shorts, Superpowers, Ori...</td>\n",
       "      <td>In the year 22XX, due to the drastic decrease ...</td>\n",
       "    </tr>\n",
       "    <tr>\n",
       "      <th>18448</th>\n",
       "      <td>18449</td>\n",
       "      <td>Pleasant Goat and Big Big Wolf: Against the Da...</td>\n",
       "      <td>Creative Power Entertaining</td>\n",
       "      <td>Adventure, Fantasy, Animal Protagonists, Anthr...</td>\n",
       "      <td>No synopsis yet - check back soon!</td>\n",
       "    </tr>\n",
       "    <tr>\n",
       "      <th>18451</th>\n",
       "      <td>18452</td>\n",
       "      <td>Cheonbangjichuk Hani</td>\n",
       "      <td>Daewon Media</td>\n",
       "      <td>Sports, Korean Animation, Running, Track and F...</td>\n",
       "      <td>No synopsis yet - check back soon!</td>\n",
       "    </tr>\n",
       "    <tr>\n",
       "      <th>18455</th>\n",
       "      <td>18456</td>\n",
       "      <td>Taiyi Xianmo Lu Zhi Ling Fei Ji 4th Season</td>\n",
       "      <td>Dancing CG Studio</td>\n",
       "      <td>Action, Adventure, Fantasy, Ancient China, Chi...</td>\n",
       "      <td>The fourth season of Taiyi Xianmo Lu Zhi Ling ...</td>\n",
       "    </tr>\n",
       "    <tr>\n",
       "      <th>18461</th>\n",
       "      <td>18462</td>\n",
       "      <td>Hua Jianghu Zhi Gui Yexing: Part II</td>\n",
       "      <td>Beijing Rocen</td>\n",
       "      <td>Action, Sports, Cars, Chinese Animation, Racin...</td>\n",
       "      <td>The second part of Hua Jianghu Zhi Gui Yexing.</td>\n",
       "    </tr>\n",
       "    <tr>\n",
       "      <th>18466</th>\n",
       "      <td>18467</td>\n",
       "      <td>Feixiang de Gezi</td>\n",
       "      <td>Shanghai Animation Film Studio</td>\n",
       "      <td>Animal Protagonists, Chinese Animation, Shorts</td>\n",
       "      <td>No synopsis yet - check back soon!</td>\n",
       "    </tr>\n",
       "    <tr>\n",
       "      <th>18472</th>\n",
       "      <td>18473</td>\n",
       "      <td>Xiao Yanzi</td>\n",
       "      <td>Shanghai Animation Film Studio</td>\n",
       "      <td>Chinese Animation, Shorts</td>\n",
       "      <td>No synopsis yet - check back soon!</td>\n",
       "    </tr>\n",
       "    <tr>\n",
       "      <th>18474</th>\n",
       "      <td>18475</td>\n",
       "      <td>Nan Fang Shao Nian</td>\n",
       "      <td>Shanghai Animation Film Studio</td>\n",
       "      <td>Chinese Animation</td>\n",
       "      <td>No synopsis yet - check back soon!</td>\n",
       "    </tr>\n",
       "    <tr>\n",
       "      <th>18478</th>\n",
       "      <td>18479</td>\n",
       "      <td>Oshiri Tantei Movie 2: Tentou Mushi Iseki no Nazo</td>\n",
       "      <td>Toei Animation</td>\n",
       "      <td>Comedy, Mystery, Detectives, Family Friendly, ...</td>\n",
       "      <td>No synopsis yet - check back soon!</td>\n",
       "    </tr>\n",
       "    <tr>\n",
       "      <th>18479</th>\n",
       "      <td>18480</td>\n",
       "      <td>Baise Shandian</td>\n",
       "      <td>HuaMei Animation</td>\n",
       "      <td>Sports, Chinese Animation, Ping Pong</td>\n",
       "      <td>No synopsis yet - check back soon!</td>\n",
       "    </tr>\n",
       "    <tr>\n",
       "      <th>18482</th>\n",
       "      <td>18483</td>\n",
       "      <td>Boris: Free</td>\n",
       "      <td>foodunited.</td>\n",
       "      <td>Abstract</td>\n",
       "      <td>The official music video for Free from the alb...</td>\n",
       "    </tr>\n",
       "    <tr>\n",
       "      <th>18487</th>\n",
       "      <td>18488</td>\n",
       "      <td>Make My Day</td>\n",
       "      <td>Studio 5</td>\n",
       "      <td>Horror, Monsters, Original Work</td>\n",
       "      <td>On a cold planet of ice and snow, mysterious c...</td>\n",
       "    </tr>\n",
       "    <tr>\n",
       "      <th>18488</th>\n",
       "      <td>18489</td>\n",
       "      <td>Shachiku-san wa Youjo Yuurei ni Iyasaretai.</td>\n",
       "      <td>Project No.9</td>\n",
       "      <td>Comedy, Slice of Life, Ghosts, Iyashikei, Non-...</td>\n",
       "      <td>The story follows the daily life of Fushihara,...</td>\n",
       "    </tr>\n",
       "    <tr>\n",
       "      <th>18490</th>\n",
       "      <td>18491</td>\n",
       "      <td>Qin Shi Mingyue: Canghai Hengliu Xiaomeng Spec...</td>\n",
       "      <td>Sparkly Key Animation Studio</td>\n",
       "      <td>Action, Ancient China, Chinese Animation, Hist...</td>\n",
       "      <td>Special episodes of Qin Shi Mingyue: Canghai H...</td>\n",
       "    </tr>\n",
       "    <tr>\n",
       "      <th>18494</th>\n",
       "      <td>18495</td>\n",
       "      <td>Heisei Inu Monogatari Bow: Genshi Inu Monogata...</td>\n",
       "      <td>Nippon Animation</td>\n",
       "      <td>Comedy, Slice of Life, Dogs</td>\n",
       "      <td>No synopsis yet - check back soon!</td>\n",
       "    </tr>\n",
       "  </tbody>\n",
       "</table>\n",
       "</div>"
      ],
      "text/plain": [
       "        Rank                                               Name  \\\n",
       "18435  18436                                          Xue Shizi   \n",
       "18440  18441                                    Fang Xue Yi Hou   \n",
       "18441  18442                                 San Mao Liulang Ji   \n",
       "18443  18444                                      The Imaginary   \n",
       "18445  18446              Onagawa Chuu Baske Bu: 5-nin no Natsu   \n",
       "18446  18447                                      Ometeotl Hero   \n",
       "18448  18449  Pleasant Goat and Big Big Wolf: Against the Da...   \n",
       "18451  18452                               Cheonbangjichuk Hani   \n",
       "18455  18456         Taiyi Xianmo Lu Zhi Ling Fei Ji 4th Season   \n",
       "18461  18462                Hua Jianghu Zhi Gui Yexing: Part II   \n",
       "18466  18467                                   Feixiang de Gezi   \n",
       "18472  18473                                         Xiao Yanzi   \n",
       "18474  18475                                 Nan Fang Shao Nian   \n",
       "18478  18479  Oshiri Tantei Movie 2: Tentou Mushi Iseki no Nazo   \n",
       "18479  18480                                     Baise Shandian   \n",
       "18482  18483                                        Boris: Free   \n",
       "18487  18488                                        Make My Day   \n",
       "18488  18489        Shachiku-san wa Youjo Yuurei ni Iyasaretai.   \n",
       "18490  18491  Qin Shi Mingyue: Canghai Hengliu Xiaomeng Spec...   \n",
       "18494  18495  Heisei Inu Monogatari Bow: Genshi Inu Monogata...   \n",
       "\n",
       "                               Studio  \\\n",
       "18435  Shanghai Animation Film Studio   \n",
       "18440  Shanghai Animation Film Studio   \n",
       "18441  Shanghai Animation Film Studio   \n",
       "18443                    Studio Ponoc   \n",
       "18445                  TYO Animations   \n",
       "18446                           Speed   \n",
       "18448     Creative Power Entertaining   \n",
       "18451                    Daewon Media   \n",
       "18455               Dancing CG Studio   \n",
       "18461                   Beijing Rocen   \n",
       "18466  Shanghai Animation Film Studio   \n",
       "18472  Shanghai Animation Film Studio   \n",
       "18474  Shanghai Animation Film Studio   \n",
       "18478                  Toei Animation   \n",
       "18479                HuaMei Animation   \n",
       "18482                     foodunited.   \n",
       "18487                        Studio 5   \n",
       "18488                    Project No.9   \n",
       "18490    Sparkly Key Animation Studio   \n",
       "18494                Nippon Animation   \n",
       "\n",
       "                                                    Tags  \\\n",
       "18435                          Chinese Animation, Shorts   \n",
       "18440                          Chinese Animation, Shorts   \n",
       "18441                                  Chinese Animation   \n",
       "18443                                   Based on a Novel   \n",
       "18445             Drama, Sports, Basketball, School Club   \n",
       "18446  Sci Fi, Anime Tamago, Shorts, Superpowers, Ori...   \n",
       "18448  Adventure, Fantasy, Animal Protagonists, Anthr...   \n",
       "18451  Sports, Korean Animation, Running, Track and F...   \n",
       "18455  Action, Adventure, Fantasy, Ancient China, Chi...   \n",
       "18461  Action, Sports, Cars, Chinese Animation, Racin...   \n",
       "18466     Animal Protagonists, Chinese Animation, Shorts   \n",
       "18472                          Chinese Animation, Shorts   \n",
       "18474                                  Chinese Animation   \n",
       "18478  Comedy, Mystery, Detectives, Family Friendly, ...   \n",
       "18479               Sports, Chinese Animation, Ping Pong   \n",
       "18482                                           Abstract   \n",
       "18487                    Horror, Monsters, Original Work   \n",
       "18488  Comedy, Slice of Life, Ghosts, Iyashikei, Non-...   \n",
       "18490  Action, Ancient China, Chinese Animation, Hist...   \n",
       "18494                        Comedy, Slice of Life, Dogs   \n",
       "\n",
       "                                             Description  \n",
       "18435                 No synopsis yet - check back soon!  \n",
       "18440                 No synopsis yet - check back soon!  \n",
       "18441                 No synopsis yet - check back soon!  \n",
       "18443                 No synopsis yet - check back soon!  \n",
       "18445                 No synopsis yet - check back soon!  \n",
       "18446  In the year 22XX, due to the drastic decrease ...  \n",
       "18448                 No synopsis yet - check back soon!  \n",
       "18451                 No synopsis yet - check back soon!  \n",
       "18455  The fourth season of Taiyi Xianmo Lu Zhi Ling ...  \n",
       "18461     The second part of Hua Jianghu Zhi Gui Yexing.  \n",
       "18466                 No synopsis yet - check back soon!  \n",
       "18472                 No synopsis yet - check back soon!  \n",
       "18474                 No synopsis yet - check back soon!  \n",
       "18478                 No synopsis yet - check back soon!  \n",
       "18479                 No synopsis yet - check back soon!  \n",
       "18482  The official music video for Free from the alb...  \n",
       "18487  On a cold planet of ice and snow, mysterious c...  \n",
       "18488  The story follows the daily life of Fushihara,...  \n",
       "18490  Special episodes of Qin Shi Mingyue: Canghai H...  \n",
       "18494                 No synopsis yet - check back soon!  "
      ]
     },
     "execution_count": 49,
     "metadata": {},
     "output_type": "execute_result"
    }
   ],
   "source": [
    "anime.tail(20)"
   ]
  },
  {
   "cell_type": "code",
   "execution_count": 50,
   "metadata": {},
   "outputs": [
    {
     "data": {
      "text/plain": [
       "'\"The relationship antics continue as Chitoge starts to realize that she is actually in love with Raku and Kosaki\\'s younger sister Haru, who wants to protect her sister from the supposedly-depraved Raku, gets added to the mix.\"'"
      ]
     },
     "execution_count": 50,
     "metadata": {},
     "output_type": "execute_result"
    }
   ],
   "source": [
    "anime.iloc[1317].Description"
   ]
  },
  {
   "cell_type": "code",
   "execution_count": 51,
   "metadata": {},
   "outputs": [],
   "source": [
    "anime['Tags'] = anime['Tags'] + anime['Studio'] + anime['Description']"
   ]
  },
  {
   "cell_type": "code",
   "execution_count": 52,
   "metadata": {},
   "outputs": [
    {
     "data": {
      "text/html": [
       "<div>\n",
       "<style scoped>\n",
       "    .dataframe tbody tr th:only-of-type {\n",
       "        vertical-align: middle;\n",
       "    }\n",
       "\n",
       "    .dataframe tbody tr th {\n",
       "        vertical-align: top;\n",
       "    }\n",
       "\n",
       "    .dataframe thead th {\n",
       "        text-align: right;\n",
       "    }\n",
       "</style>\n",
       "<table border=\"1\" class=\"dataframe\">\n",
       "  <thead>\n",
       "    <tr style=\"text-align: right;\">\n",
       "      <th></th>\n",
       "      <th>Rank</th>\n",
       "      <th>Name</th>\n",
       "      <th>Studio</th>\n",
       "      <th>Tags</th>\n",
       "      <th>Description</th>\n",
       "    </tr>\n",
       "  </thead>\n",
       "  <tbody>\n",
       "    <tr>\n",
       "      <th>18482</th>\n",
       "      <td>18483</td>\n",
       "      <td>Boris: Free</td>\n",
       "      <td>foodunited.</td>\n",
       "      <td>Abstractfoodunited.The official music video fo...</td>\n",
       "      <td>The official music video for Free from the alb...</td>\n",
       "    </tr>\n",
       "    <tr>\n",
       "      <th>18487</th>\n",
       "      <td>18488</td>\n",
       "      <td>Make My Day</td>\n",
       "      <td>Studio 5</td>\n",
       "      <td>Horror, Monsters, Original WorkStudio 5On a co...</td>\n",
       "      <td>On a cold planet of ice and snow, mysterious c...</td>\n",
       "    </tr>\n",
       "    <tr>\n",
       "      <th>18488</th>\n",
       "      <td>18489</td>\n",
       "      <td>Shachiku-san wa Youjo Yuurei ni Iyasaretai.</td>\n",
       "      <td>Project No.9</td>\n",
       "      <td>Comedy, Slice of Life, Ghosts, Iyashikei, Non-...</td>\n",
       "      <td>The story follows the daily life of Fushihara,...</td>\n",
       "    </tr>\n",
       "    <tr>\n",
       "      <th>18490</th>\n",
       "      <td>18491</td>\n",
       "      <td>Qin Shi Mingyue: Canghai Hengliu Xiaomeng Spec...</td>\n",
       "      <td>Sparkly Key Animation Studio</td>\n",
       "      <td>Action, Ancient China, Chinese Animation, Hist...</td>\n",
       "      <td>Special episodes of Qin Shi Mingyue: Canghai H...</td>\n",
       "    </tr>\n",
       "    <tr>\n",
       "      <th>18494</th>\n",
       "      <td>18495</td>\n",
       "      <td>Heisei Inu Monogatari Bow: Genshi Inu Monogata...</td>\n",
       "      <td>Nippon Animation</td>\n",
       "      <td>Comedy, Slice of Life, DogsNippon AnimationNo ...</td>\n",
       "      <td>No synopsis yet - check back soon!</td>\n",
       "    </tr>\n",
       "  </tbody>\n",
       "</table>\n",
       "</div>"
      ],
      "text/plain": [
       "        Rank                                               Name  \\\n",
       "18482  18483                                        Boris: Free   \n",
       "18487  18488                                        Make My Day   \n",
       "18488  18489        Shachiku-san wa Youjo Yuurei ni Iyasaretai.   \n",
       "18490  18491  Qin Shi Mingyue: Canghai Hengliu Xiaomeng Spec...   \n",
       "18494  18495  Heisei Inu Monogatari Bow: Genshi Inu Monogata...   \n",
       "\n",
       "                             Studio  \\\n",
       "18482                   foodunited.   \n",
       "18487                      Studio 5   \n",
       "18488                  Project No.9   \n",
       "18490  Sparkly Key Animation Studio   \n",
       "18494              Nippon Animation   \n",
       "\n",
       "                                                    Tags  \\\n",
       "18482  Abstractfoodunited.The official music video fo...   \n",
       "18487  Horror, Monsters, Original WorkStudio 5On a co...   \n",
       "18488  Comedy, Slice of Life, Ghosts, Iyashikei, Non-...   \n",
       "18490  Action, Ancient China, Chinese Animation, Hist...   \n",
       "18494  Comedy, Slice of Life, DogsNippon AnimationNo ...   \n",
       "\n",
       "                                             Description  \n",
       "18482  The official music video for Free from the alb...  \n",
       "18487  On a cold planet of ice and snow, mysterious c...  \n",
       "18488  The story follows the daily life of Fushihara,...  \n",
       "18490  Special episodes of Qin Shi Mingyue: Canghai H...  \n",
       "18494                 No synopsis yet - check back soon!  "
      ]
     },
     "execution_count": 52,
     "metadata": {},
     "output_type": "execute_result"
    }
   ],
   "source": [
    "anime.tail()"
   ]
  },
  {
   "cell_type": "code",
   "execution_count": 53,
   "metadata": {},
   "outputs": [],
   "source": [
    "anime = anime[['Rank', 'Name', 'Tags']]"
   ]
  },
  {
   "cell_type": "code",
   "execution_count": 54,
   "metadata": {},
   "outputs": [
    {
     "data": {
      "text/html": [
       "<div>\n",
       "<style scoped>\n",
       "    .dataframe tbody tr th:only-of-type {\n",
       "        vertical-align: middle;\n",
       "    }\n",
       "\n",
       "    .dataframe tbody tr th {\n",
       "        vertical-align: top;\n",
       "    }\n",
       "\n",
       "    .dataframe thead th {\n",
       "        text-align: right;\n",
       "    }\n",
       "</style>\n",
       "<table border=\"1\" class=\"dataframe\">\n",
       "  <thead>\n",
       "    <tr style=\"text-align: right;\">\n",
       "      <th></th>\n",
       "      <th>Rank</th>\n",
       "      <th>Name</th>\n",
       "      <th>Tags</th>\n",
       "    </tr>\n",
       "  </thead>\n",
       "  <tbody>\n",
       "    <tr>\n",
       "      <th>0</th>\n",
       "      <td>1</td>\n",
       "      <td>Demon Slayer: Kimetsu no Yaiba - Entertainment...</td>\n",
       "      <td>Action, Adventure, Fantasy, Shounen, Demons, H...</td>\n",
       "    </tr>\n",
       "    <tr>\n",
       "      <th>1</th>\n",
       "      <td>2</td>\n",
       "      <td>Fruits Basket the Final Season</td>\n",
       "      <td>Drama, Fantasy, Romance, Shoujo, Animal Transf...</td>\n",
       "    </tr>\n",
       "    <tr>\n",
       "      <th>2</th>\n",
       "      <td>3</td>\n",
       "      <td>Mo Dao Zu Shi 3</td>\n",
       "      <td>Fantasy, Ancient China, Chinese Animation, Cul...</td>\n",
       "    </tr>\n",
       "    <tr>\n",
       "      <th>3</th>\n",
       "      <td>4</td>\n",
       "      <td>Fullmetal Alchemist: Brotherhood</td>\n",
       "      <td>Action, Adventure, Drama, Fantasy, Mystery, Sh...</td>\n",
       "    </tr>\n",
       "    <tr>\n",
       "      <th>4</th>\n",
       "      <td>5</td>\n",
       "      <td>Attack on Titan 3rd Season: Part II</td>\n",
       "      <td>Action, Fantasy, Horror, Shounen, Dark Fantasy...</td>\n",
       "    </tr>\n",
       "    <tr>\n",
       "      <th>5</th>\n",
       "      <td>6</td>\n",
       "      <td>Jujutsu Kaisen</td>\n",
       "      <td>Action, Horror, Shounen, Curse, Exorcists, Mon...</td>\n",
       "    </tr>\n",
       "    <tr>\n",
       "      <th>6</th>\n",
       "      <td>7</td>\n",
       "      <td>Attack on Titan The Final Season: Part II</td>\n",
       "      <td>Action, Drama, Fantasy, Horror, Shounen, Dark ...</td>\n",
       "    </tr>\n",
       "    <tr>\n",
       "      <th>7</th>\n",
       "      <td>8</td>\n",
       "      <td>Attack on Titan The Final Season</td>\n",
       "      <td>Action, Drama, Fantasy, Horror, Shounen, Dark ...</td>\n",
       "    </tr>\n",
       "    <tr>\n",
       "      <th>8</th>\n",
       "      <td>9</td>\n",
       "      <td>Demon Slayer: Kimetsu no Yaiba Movie - Mugen T...</td>\n",
       "      <td>Action, Drama, Fantasy, Shounen, Demons, Histo...</td>\n",
       "    </tr>\n",
       "    <tr>\n",
       "      <th>9</th>\n",
       "      <td>10</td>\n",
       "      <td>Haikyuu!! Karasuno High School vs Shiratorizaw...</td>\n",
       "      <td>Shounen, Sports, Animeism, School Club, School...</td>\n",
       "    </tr>\n",
       "    <tr>\n",
       "      <th>10</th>\n",
       "      <td>11</td>\n",
       "      <td>your name.</td>\n",
       "      <td>Drama, Romance, Body Swapping, Gender Bender, ...</td>\n",
       "    </tr>\n",
       "    <tr>\n",
       "      <th>11</th>\n",
       "      <td>12</td>\n",
       "      <td>Haikyuu!! Second Season</td>\n",
       "      <td>Shounen, Sports, School Club, School Life, Tou...</td>\n",
       "    </tr>\n",
       "    <tr>\n",
       "      <th>12</th>\n",
       "      <td>13</td>\n",
       "      <td>Demon Slayer: Kimetsu no Yaiba</td>\n",
       "      <td>Action, Adventure, Comedy, Drama, Fantasy, Sho...</td>\n",
       "    </tr>\n",
       "    <tr>\n",
       "      <th>13</th>\n",
       "      <td>14</td>\n",
       "      <td>Hunter x Hunter (2011)</td>\n",
       "      <td>Action, Adventure, Drama, Fantasy, Shounen, Mo...</td>\n",
       "    </tr>\n",
       "    <tr>\n",
       "      <th>14</th>\n",
       "      <td>15</td>\n",
       "      <td>A Silent Voice</td>\n",
       "      <td>Drama, Shounen, Disability, Melancholy, Mental...</td>\n",
       "    </tr>\n",
       "    <tr>\n",
       "      <th>15</th>\n",
       "      <td>16</td>\n",
       "      <td>Violet Evergarden Movie</td>\n",
       "      <td>Drama, Melancholy, War, Based on a Light Novel...</td>\n",
       "    </tr>\n",
       "    <tr>\n",
       "      <th>16</th>\n",
       "      <td>17</td>\n",
       "      <td>Haikyuu!! To the Top: Part II</td>\n",
       "      <td>Shounen, Sports, Animeism, School Club, Tourna...</td>\n",
       "    </tr>\n",
       "    <tr>\n",
       "      <th>18</th>\n",
       "      <td>19</td>\n",
       "      <td>That Time I Got Reincarnated as a Slime Season 2</td>\n",
       "      <td>Action, Adventure, Fantasy, Shounen, Cheats, D...</td>\n",
       "    </tr>\n",
       "    <tr>\n",
       "      <th>19</th>\n",
       "      <td>20</td>\n",
       "      <td>Given</td>\n",
       "      <td>BL, Drama, Romance, Shounen-ai, Death of a Lov...</td>\n",
       "    </tr>\n",
       "    <tr>\n",
       "      <th>20</th>\n",
       "      <td>21</td>\n",
       "      <td>Code Geass: Lelouch of the Rebellion R2</td>\n",
       "      <td>Mecha, Sci Fi, Conspiracy, Mind Games, Overpow...</td>\n",
       "    </tr>\n",
       "  </tbody>\n",
       "</table>\n",
       "</div>"
      ],
      "text/plain": [
       "    Rank                                               Name  \\\n",
       "0      1  Demon Slayer: Kimetsu no Yaiba - Entertainment...   \n",
       "1      2                     Fruits Basket the Final Season   \n",
       "2      3                                    Mo Dao Zu Shi 3   \n",
       "3      4                   Fullmetal Alchemist: Brotherhood   \n",
       "4      5                Attack on Titan 3rd Season: Part II   \n",
       "5      6                                     Jujutsu Kaisen   \n",
       "6      7          Attack on Titan The Final Season: Part II   \n",
       "7      8                   Attack on Titan The Final Season   \n",
       "8      9  Demon Slayer: Kimetsu no Yaiba Movie - Mugen T...   \n",
       "9     10  Haikyuu!! Karasuno High School vs Shiratorizaw...   \n",
       "10    11                                         your name.   \n",
       "11    12                            Haikyuu!! Second Season   \n",
       "12    13                     Demon Slayer: Kimetsu no Yaiba   \n",
       "13    14                             Hunter x Hunter (2011)   \n",
       "14    15                                     A Silent Voice   \n",
       "15    16                            Violet Evergarden Movie   \n",
       "16    17                      Haikyuu!! To the Top: Part II   \n",
       "18    19   That Time I Got Reincarnated as a Slime Season 2   \n",
       "19    20                                              Given   \n",
       "20    21            Code Geass: Lelouch of the Rebellion R2   \n",
       "\n",
       "                                                 Tags  \n",
       "0   Action, Adventure, Fantasy, Shounen, Demons, H...  \n",
       "1   Drama, Fantasy, Romance, Shoujo, Animal Transf...  \n",
       "2   Fantasy, Ancient China, Chinese Animation, Cul...  \n",
       "3   Action, Adventure, Drama, Fantasy, Mystery, Sh...  \n",
       "4   Action, Fantasy, Horror, Shounen, Dark Fantasy...  \n",
       "5   Action, Horror, Shounen, Curse, Exorcists, Mon...  \n",
       "6   Action, Drama, Fantasy, Horror, Shounen, Dark ...  \n",
       "7   Action, Drama, Fantasy, Horror, Shounen, Dark ...  \n",
       "8   Action, Drama, Fantasy, Shounen, Demons, Histo...  \n",
       "9   Shounen, Sports, Animeism, School Club, School...  \n",
       "10  Drama, Romance, Body Swapping, Gender Bender, ...  \n",
       "11  Shounen, Sports, School Club, School Life, Tou...  \n",
       "12  Action, Adventure, Comedy, Drama, Fantasy, Sho...  \n",
       "13  Action, Adventure, Drama, Fantasy, Shounen, Mo...  \n",
       "14  Drama, Shounen, Disability, Melancholy, Mental...  \n",
       "15  Drama, Melancholy, War, Based on a Light Novel...  \n",
       "16  Shounen, Sports, Animeism, School Club, Tourna...  \n",
       "18  Action, Adventure, Fantasy, Shounen, Cheats, D...  \n",
       "19  BL, Drama, Romance, Shounen-ai, Death of a Lov...  \n",
       "20  Mecha, Sci Fi, Conspiracy, Mind Games, Overpow...  "
      ]
     },
     "execution_count": 54,
     "metadata": {},
     "output_type": "execute_result"
    }
   ],
   "source": [
    "anime.head(20)"
   ]
  },
  {
   "cell_type": "code",
   "execution_count": 55,
   "metadata": {},
   "outputs": [],
   "source": [
    "from sklearn.feature_extraction.text import CountVectorizer\n",
    "cv = CountVectorizer(max_features=9000, stop_words='english')"
   ]
  },
  {
   "cell_type": "code",
   "execution_count": 56,
   "metadata": {},
   "outputs": [
    {
     "data": {
      "text/plain": [
       "(9798, 9000)"
      ]
     },
     "execution_count": 56,
     "metadata": {},
     "output_type": "execute_result"
    }
   ],
   "source": [
    "vectors = cv.fit_transform(anime['Tags']).toarray()\n",
    "vectors.shape"
   ]
  },
  {
   "cell_type": "code",
   "execution_count": 57,
   "metadata": {},
   "outputs": [
    {
     "data": {
      "text/plain": [
       "array([0, 0, 0, ..., 0, 0, 0], dtype=int64)"
      ]
     },
     "execution_count": 57,
     "metadata": {},
     "output_type": "execute_result"
    }
   ],
   "source": [
    "vectors[0]"
   ]
  },
  {
   "cell_type": "code",
   "execution_count": 58,
   "metadata": {},
   "outputs": [
    {
     "data": {
      "text/plain": [
       "array(['000', '0079', '10', ..., 'zorori', 'zorro', 'zunda'], dtype=object)"
      ]
     },
     "execution_count": 58,
     "metadata": {},
     "output_type": "execute_result"
    }
   ],
   "source": [
    "cv.get_feature_names_out()"
   ]
  },
  {
   "cell_type": "code",
   "execution_count": 59,
   "metadata": {},
   "outputs": [],
   "source": [
    "from sklearn.metrics.pairwise import cosine_similarity"
   ]
  },
  {
   "cell_type": "code",
   "execution_count": 60,
   "metadata": {},
   "outputs": [],
   "source": [
    "similarity = cosine_similarity(vectors)"
   ]
  },
  {
   "cell_type": "code",
   "execution_count": 61,
   "metadata": {},
   "outputs": [
    {
     "data": {
      "text/plain": [
       "[(12, 0.4125684985035172),\n",
       " (8, 0.36214298417007407),\n",
       " (46, 0.3222011162644132),\n",
       " (7324, 0.3198010745334156),\n",
       " (8334, 0.3198010745334156)]"
      ]
     },
     "execution_count": 61,
     "metadata": {},
     "output_type": "execute_result"
    }
   ],
   "source": [
    "sorted(list(enumerate(similarity[0])), reverse =True, key = lambda x:x[1])[1:6]"
   ]
  },
  {
   "cell_type": "code",
   "execution_count": 62,
   "metadata": {},
   "outputs": [],
   "source": [
    "def recomended(animee):\n",
    "    anime_index = anime[anime['Name'] == animee].index[0]\n",
    "    distance = similarity[anime_index]\n",
    "    anime_list = sorted(list(enumerate(distance)), reverse=True, key=lambda x:x[1])[1:6]\n",
    "    for i in anime_list:\n",
    "        print(anime.iloc[i[0]].Name)\n",
    "        \n"
   ]
  },
  {
   "cell_type": "code",
   "execution_count": 63,
   "metadata": {},
   "outputs": [
    {
     "name": "stdout",
     "output_type": "stream",
     "text": [
      "Your lie in April\n",
      "Given Movie\n",
      "Forest of Piano 2nd Season\n",
      "Fish in the Trap\n",
      "Gravitation: Lyrics of Love\n"
     ]
    }
   ],
   "source": [
    "recomended('That Time I Got Reincarnated as a Slime Season 2')"
   ]
  },
  {
   "cell_type": "code",
   "execution_count": 64,
   "metadata": {},
   "outputs": [],
   "source": [
    "import nltk \n",
    "from nltk.stem.porter import PorterStemmer\n",
    "ps = PorterStemmer()"
   ]
  },
  {
   "cell_type": "code",
   "execution_count": 65,
   "metadata": {},
   "outputs": [],
   "source": [
    "\n",
    "def stem(text):\n",
    "    y = []\n",
    "    for i in text.split():\n",
    "        y.append(ps.stem(i))\n",
    "    return \" \".join(y)        \n",
    "        \n"
   ]
  },
  {
   "cell_type": "code",
   "execution_count": 66,
   "metadata": {},
   "outputs": [],
   "source": [
    "anime['Tags'] = anime['Tags'].apply(stem)"
   ]
  },
  {
   "cell_type": "code",
   "execution_count": 69,
   "metadata": {},
   "outputs": [
    {
     "name": "stdout",
     "output_type": "stream",
     "text": [
      "Attack on Titan 2nd Season\n",
      "Attack on Titan 3rd Season\n",
      "Attack on Titan Movie 2: The Wings of Freedom\n",
      "Attack on Titan Movie 1: Crimson Bow and Arrow\n",
      "Attack on Titan Movie 3: The Roar of Awakening\n"
     ]
    }
   ],
   "source": [
    "recomended('Attack on Titan 3rd Season: Part II')"
   ]
  }
 ],
 "metadata": {
  "kernelspec": {
   "display_name": "Python 3",
   "language": "python",
   "name": "python3"
  },
  "language_info": {
   "codemirror_mode": {
    "name": "ipython",
    "version": 3
   },
   "file_extension": ".py",
   "mimetype": "text/x-python",
   "name": "python",
   "nbconvert_exporter": "python",
   "pygments_lexer": "ipython3",
   "version": "3.11.3"
  },
  "orig_nbformat": 4
 },
 "nbformat": 4,
 "nbformat_minor": 2
}
